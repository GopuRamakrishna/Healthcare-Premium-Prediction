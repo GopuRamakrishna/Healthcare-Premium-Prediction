{
 "cells": [
  {
   "cell_type": "code",
   "execution_count": 1,
   "id": "8dd8e62b",
   "metadata": {},
   "outputs": [],
   "source": [
    "import pandas as pd\n"
   ]
  },
  {
   "cell_type": "markdown",
   "id": "0a0cdb91",
   "metadata": {},
   "source": [
    "split the dataset based on the age group below 25"
   ]
  },
  {
   "cell_type": "code",
   "execution_count": 2,
   "id": "693f99f3",
   "metadata": {},
   "outputs": [],
   "source": [
    "df=pd.read_excel('premiums.xlsx')"
   ]
  },
  {
   "cell_type": "code",
   "execution_count": 5,
   "id": "f7ceb839",
   "metadata": {},
   "outputs": [
    {
     "data": {
      "text/plain": [
       "Index(['Age', 'Gender', 'Region', 'Marital_status', 'Number Of Dependants',\n",
       "       'BMI_Category', 'Smoking_Status', 'Employment_Status', 'Income_Level',\n",
       "       'Income_Lakhs', 'Medical History', 'Insurance_Plan',\n",
       "       'Annual_Premium_Amount'],\n",
       "      dtype='object')"
      ]
     },
     "execution_count": 5,
     "metadata": {},
     "output_type": "execute_result"
    }
   ],
   "source": [
    "df.columns"
   ]
  },
  {
   "cell_type": "code",
   "execution_count": 6,
   "id": "57e11454",
   "metadata": {},
   "outputs": [],
   "source": [
    "premium_young=df[df.Age<=25]\n",
    "premium_rest=df[df.Age>25]"
   ]
  },
  {
   "cell_type": "code",
   "execution_count": 7,
   "id": "23c94d05",
   "metadata": {},
   "outputs": [
    {
     "data": {
      "text/plain": [
       "(29904, 13)"
      ]
     },
     "execution_count": 7,
     "metadata": {},
     "output_type": "execute_result"
    }
   ],
   "source": [
    "premium_rest.shape"
   ]
  },
  {
   "cell_type": "code",
   "execution_count": 8,
   "id": "3ec53c8c",
   "metadata": {},
   "outputs": [
    {
     "data": {
      "text/plain": [
       "(20096, 13)"
      ]
     },
     "execution_count": 8,
     "metadata": {},
     "output_type": "execute_result"
    }
   ],
   "source": [
    "premium_young.shape"
   ]
  },
  {
   "cell_type": "code",
   "execution_count": 10,
   "id": "adeb0cd1",
   "metadata": {},
   "outputs": [],
   "source": [
    "# make separate datasets for making each model\n",
    "premium_rest.to_excel(\"premium_rest.xlsx\",index=False)\n",
    "premium_young.to_excel(\"premium_young.xlsx\",index=False)\n"
   ]
  },
  {
   "cell_type": "code",
   "execution_count": null,
   "id": "5579857b",
   "metadata": {},
   "outputs": [],
   "source": []
  }
 ],
 "metadata": {
  "kernelspec": {
   "display_name": "Python 3",
   "language": "python",
   "name": "python3"
  },
  "language_info": {
   "codemirror_mode": {
    "name": "ipython",
    "version": 3
   },
   "file_extension": ".py",
   "mimetype": "text/x-python",
   "name": "python",
   "nbconvert_exporter": "python",
   "pygments_lexer": "ipython3",
   "version": "3.13.2"
  }
 },
 "nbformat": 4,
 "nbformat_minor": 5
}
